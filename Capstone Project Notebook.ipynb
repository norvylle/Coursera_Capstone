{
    "cells": [
        {
            "metadata": {
                "collapsed": true
            },
            "cell_type": "markdown",
            "source": "# Capstone Project"
        },
        {
            "metadata": {},
            "cell_type": "markdown",
            "source": "## Introduction / Business Problem"
        },
        {
            "metadata": {},
            "cell_type": "markdown",
            "source": "With the boom of cheap airplane tickets, tourists from around the world are given the chance to explore more destinations more than ever. Most people want to make the most of their holidays so they travel to the most popular destinations. But traveling to popular destinations themselves doesn't simply makes the most of our off days.\n\nAny traveler wants to make the most of their travels. One problem arising in planning travels is maximing your travel days to explore popular areas in your destination. This is made easier today by online guides and maps but they don't tell a complete picture on where exactly the popular areas are.\n\nOne possible solution for this is the application of K-means clustering of popular places a specific destination. Tourists are now given clusters of places wherein they can easily plan ahead on when and where to go on their travel days."
        },
        {
            "metadata": {},
            "cell_type": "markdown",
            "source": "## Data"
        },
        {
            "metadata": {},
            "cell_type": "markdown",
            "source": "For this project, our target city would be Hong Kong.\n\nData needed for this project would include Geospatial Coordinates data obtained from the previous assignment and Foursquare API. We will also need to use `Nominatim` to obtain the exact coordinates for Toronto."
        }
    ],
    "metadata": {
        "kernelspec": {
            "name": "python3",
            "display_name": "Python 3.6",
            "language": "python"
        },
        "language_info": {
            "name": "python",
            "version": "3.6.9",
            "mimetype": "text/x-python",
            "codemirror_mode": {
                "name": "ipython",
                "version": 3
            },
            "pygments_lexer": "ipython3",
            "nbconvert_exporter": "python",
            "file_extension": ".py"
        }
    },
    "nbformat": 4,
    "nbformat_minor": 1
}