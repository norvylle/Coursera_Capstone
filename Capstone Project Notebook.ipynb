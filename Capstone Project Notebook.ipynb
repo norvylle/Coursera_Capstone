{
    "cells": [
        {
            "metadata": {
                "collapsed": true
            },
            "cell_type": "markdown",
            "source": "# Capstone Project"
        },
        {
            "metadata": {},
            "cell_type": "markdown",
            "source": "## Introduction / Business Problem"
        },
        {
            "metadata": {},
            "cell_type": "markdown",
            "source": "Brand X Pizzeria is looking to expand it's business into Toronto. In ordereThey would like to set up a place near other competing pizza places that are currently top rated on Foursquare. They would like to know in which neighborhood it would be most suitable to start a business given their requirement."
        },
        {
            "metadata": {},
            "cell_type": "markdown",
            "source": "## Data"
        },
        {
            "metadata": {},
            "cell_type": "markdown",
            "source": "Data needed for this project would include Geospatial Coordinates data obtained from the previous assignment and Foursquare API. We will also need to use `Nominatim` to obtain the exact coordinates for Toronto."
        }
    ],
    "metadata": {
        "kernelspec": {
            "name": "python3",
            "display_name": "Python 3.6",
            "language": "python"
        },
        "language_info": {
            "name": "python",
            "version": "3.6.9",
            "mimetype": "text/x-python",
            "codemirror_mode": {
                "name": "ipython",
                "version": 3
            },
            "pygments_lexer": "ipython3",
            "nbconvert_exporter": "python",
            "file_extension": ".py"
        }
    },
    "nbformat": 4,
    "nbformat_minor": 1
}